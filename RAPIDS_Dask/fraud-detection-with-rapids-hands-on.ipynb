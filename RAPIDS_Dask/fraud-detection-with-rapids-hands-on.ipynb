{
 "cells": [
  {
   "cell_type": "markdown",
   "metadata": {},
   "source": [
    "# Fraud Detection with RAPIDS"
   ]
  },
  {
   "cell_type": "markdown",
   "metadata": {},
   "source": [
    "Complete following setup before running this notebook： \n",
    "\n",
    "- Server with 1 * A100 GPU, CUDA 11.x, and docker\n",
    "- Get \"<b>IEEE-CIS Fraud Detection</b>\" dataset\n",
    "    * Go to https://www.kaggle.com/c/ieee-fraud-detection/data, download dataset and unzip to `./dataset` folder\n",
    "- Get RAPIDS docker image：`docker pull nvcr.io/nvidia/rapidsai/rapidsai:22.06-cuda11.2-runtime-ubuntu20.04-py3.8`\n",
    "- Run docker: \n",
    "\n",
    "```bash\n",
    "docker run --gpus '\"device=0\"' -it --rm --network=host --shm-size=24g   --ulimit memlock=-1 --ulimit stack=67108864 \\\n",
    "-v /home:/home   \\\n",
    "nvcr.io/nvidia/rapidsai/rapidsai:22.06-cuda11.2-runtime-ubuntu20.04-py3.8 /bin/bash\n",
    "```\n",
    "\n",
    "- Inside docker, start jupyter lab: `jupyter-lab --allow-root --ip=0.0.0.0 --no-browser --NotebookApp.token=''`\n"
   ]
  },
  {
   "cell_type": "code",
   "execution_count": 1,
   "metadata": {
    "_cell_guid": "b1076dfc-b9ad-4769-8c92-a6c4dae69d19",
    "_uuid": "8f2839f25d086af736a60e9eeb907d3b93b6e0e5"
   },
   "outputs": [],
   "source": [
    "import os\n",
    "from glob import glob\n",
    "import time # to measure time\n",
    "\n",
    "import pandas as pd # CPU\n",
    "import cudf # GPU ##\n",
    "\n",
    "import xgboost as xgb # model\n",
    "\n",
    "from tqdm import tqdm # to display progress bar\n",
    "\n",
    "# CPU\n",
    "from sklearn.preprocessing import LabelEncoder\n",
    "from sklearn.model_selection import train_test_split\n",
    "\n",
    "# GPU ##\n",
    "from cuml.preprocessing import LabelEncoder as gpu_LabelEncoder\n",
    "from cuml.model_selection import train_test_split as gpu_train_test_split\n",
    "\n",
    "\n",
    "# visualisation\n",
    "import matplotlib.pyplot as plt\n",
    "%matplotlib inline\n",
    "%config InlineBackend.figure_format='retina'\n",
    "\n",
    "# metrics\n",
    "from sklearn.metrics import classification_report\n",
    "from sklearn.metrics import ConfusionMatrixDisplay\n",
    "from xgboost import plot_importance, plot_tree\n"
   ]
  },
  {
   "cell_type": "code",
   "execution_count": 2,
   "metadata": {},
   "outputs": [
    {
     "data": {
      "text/plain": [
       "['./dataset/test_identity.csv',\n",
       " './dataset/train_identity.csv',\n",
       " './dataset/sample_submission.csv',\n",
       " './dataset/test_transaction.csv',\n",
       " './dataset/train_transaction.csv']"
      ]
     },
     "execution_count": 2,
     "metadata": {},
     "output_type": "execute_result"
    }
   ],
   "source": [
    "data_root = \"./dataset\"\n",
    "\n",
    "filenames = glob(os.path.join(data_root, \"*.csv\"))        \n",
    "fp_train_trans = filenames[4]\n",
    "fp_train_ident = filenames[0]\n",
    "filenames"
   ]
  },
  {
   "cell_type": "markdown",
   "metadata": {},
   "source": [
    "# 1. Load Data"
   ]
  },
  {
   "cell_type": "code",
   "execution_count": 3,
   "metadata": {},
   "outputs": [
    {
     "name": "stdout",
     "output_type": "stream",
     "text": [
      "CPU times: user 25.1 s, sys: 4.91 s, total: 30 s\n",
      "Wall time: 30.1 s\n"
     ]
    }
   ],
   "source": [
    "%%time\n",
    "\n",
    "# CPU\n",
    "train_transaction = pd.read_csv(fp_train_trans, index_col=\"TransactionID\")\n",
    "train_identity = pd.read_csv(fp_train_ident, index_col=\"TransactionID\")"
   ]
  },
  {
   "cell_type": "code",
   "execution_count": 4,
   "metadata": {},
   "outputs": [
    {
     "name": "stdout",
     "output_type": "stream",
     "text": [
      "CPU times: user 2.58 s, sys: 516 ms, total: 3.1 s\n",
      "Wall time: 4.5 s\n"
     ]
    }
   ],
   "source": [
    "%%time\n",
    "\n",
    "# GPU\n",
    "train_transaction_gpu = cudf.read_csv(fp_train_trans, index_col=\"TransactionID\")\n",
    "train_identity_gpu = cudf.read_csv(fp_train_ident, index_col=\"TransactionID\")"
   ]
  },
  {
   "cell_type": "code",
   "execution_count": 5,
   "metadata": {},
   "outputs": [
    {
     "data": {
      "text/html": [
       "<div>\n",
       "<style scoped>\n",
       "    .dataframe tbody tr th:only-of-type {\n",
       "        vertical-align: middle;\n",
       "    }\n",
       "\n",
       "    .dataframe tbody tr th {\n",
       "        vertical-align: top;\n",
       "    }\n",
       "\n",
       "    .dataframe thead th {\n",
       "        text-align: right;\n",
       "    }\n",
       "</style>\n",
       "<table border=\"1\" class=\"dataframe\">\n",
       "  <thead>\n",
       "    <tr style=\"text-align: right;\">\n",
       "      <th></th>\n",
       "      <th>isFraud</th>\n",
       "      <th>TransactionDT</th>\n",
       "      <th>TransactionAmt</th>\n",
       "      <th>ProductCD</th>\n",
       "      <th>card1</th>\n",
       "      <th>card2</th>\n",
       "      <th>card3</th>\n",
       "      <th>card4</th>\n",
       "      <th>card5</th>\n",
       "      <th>card6</th>\n",
       "      <th>...</th>\n",
       "      <th>V330</th>\n",
       "      <th>V331</th>\n",
       "      <th>V332</th>\n",
       "      <th>V333</th>\n",
       "      <th>V334</th>\n",
       "      <th>V335</th>\n",
       "      <th>V336</th>\n",
       "      <th>V337</th>\n",
       "      <th>V338</th>\n",
       "      <th>V339</th>\n",
       "    </tr>\n",
       "    <tr>\n",
       "      <th>TransactionID</th>\n",
       "      <th></th>\n",
       "      <th></th>\n",
       "      <th></th>\n",
       "      <th></th>\n",
       "      <th></th>\n",
       "      <th></th>\n",
       "      <th></th>\n",
       "      <th></th>\n",
       "      <th></th>\n",
       "      <th></th>\n",
       "      <th></th>\n",
       "      <th></th>\n",
       "      <th></th>\n",
       "      <th></th>\n",
       "      <th></th>\n",
       "      <th></th>\n",
       "      <th></th>\n",
       "      <th></th>\n",
       "      <th></th>\n",
       "      <th></th>\n",
       "      <th></th>\n",
       "    </tr>\n",
       "  </thead>\n",
       "  <tbody>\n",
       "    <tr>\n",
       "      <th>2987000</th>\n",
       "      <td>0</td>\n",
       "      <td>86400</td>\n",
       "      <td>68.5</td>\n",
       "      <td>W</td>\n",
       "      <td>13926</td>\n",
       "      <td>NaN</td>\n",
       "      <td>150.0</td>\n",
       "      <td>discover</td>\n",
       "      <td>142.0</td>\n",
       "      <td>credit</td>\n",
       "      <td>...</td>\n",
       "      <td>NaN</td>\n",
       "      <td>NaN</td>\n",
       "      <td>NaN</td>\n",
       "      <td>NaN</td>\n",
       "      <td>NaN</td>\n",
       "      <td>NaN</td>\n",
       "      <td>NaN</td>\n",
       "      <td>NaN</td>\n",
       "      <td>NaN</td>\n",
       "      <td>NaN</td>\n",
       "    </tr>\n",
       "    <tr>\n",
       "      <th>2987001</th>\n",
       "      <td>0</td>\n",
       "      <td>86401</td>\n",
       "      <td>29.0</td>\n",
       "      <td>W</td>\n",
       "      <td>2755</td>\n",
       "      <td>404.0</td>\n",
       "      <td>150.0</td>\n",
       "      <td>mastercard</td>\n",
       "      <td>102.0</td>\n",
       "      <td>credit</td>\n",
       "      <td>...</td>\n",
       "      <td>NaN</td>\n",
       "      <td>NaN</td>\n",
       "      <td>NaN</td>\n",
       "      <td>NaN</td>\n",
       "      <td>NaN</td>\n",
       "      <td>NaN</td>\n",
       "      <td>NaN</td>\n",
       "      <td>NaN</td>\n",
       "      <td>NaN</td>\n",
       "      <td>NaN</td>\n",
       "    </tr>\n",
       "    <tr>\n",
       "      <th>2987002</th>\n",
       "      <td>0</td>\n",
       "      <td>86469</td>\n",
       "      <td>59.0</td>\n",
       "      <td>W</td>\n",
       "      <td>4663</td>\n",
       "      <td>490.0</td>\n",
       "      <td>150.0</td>\n",
       "      <td>visa</td>\n",
       "      <td>166.0</td>\n",
       "      <td>debit</td>\n",
       "      <td>...</td>\n",
       "      <td>NaN</td>\n",
       "      <td>NaN</td>\n",
       "      <td>NaN</td>\n",
       "      <td>NaN</td>\n",
       "      <td>NaN</td>\n",
       "      <td>NaN</td>\n",
       "      <td>NaN</td>\n",
       "      <td>NaN</td>\n",
       "      <td>NaN</td>\n",
       "      <td>NaN</td>\n",
       "    </tr>\n",
       "    <tr>\n",
       "      <th>2987003</th>\n",
       "      <td>0</td>\n",
       "      <td>86499</td>\n",
       "      <td>50.0</td>\n",
       "      <td>W</td>\n",
       "      <td>18132</td>\n",
       "      <td>567.0</td>\n",
       "      <td>150.0</td>\n",
       "      <td>mastercard</td>\n",
       "      <td>117.0</td>\n",
       "      <td>debit</td>\n",
       "      <td>...</td>\n",
       "      <td>NaN</td>\n",
       "      <td>NaN</td>\n",
       "      <td>NaN</td>\n",
       "      <td>NaN</td>\n",
       "      <td>NaN</td>\n",
       "      <td>NaN</td>\n",
       "      <td>NaN</td>\n",
       "      <td>NaN</td>\n",
       "      <td>NaN</td>\n",
       "      <td>NaN</td>\n",
       "    </tr>\n",
       "    <tr>\n",
       "      <th>2987004</th>\n",
       "      <td>0</td>\n",
       "      <td>86506</td>\n",
       "      <td>50.0</td>\n",
       "      <td>H</td>\n",
       "      <td>4497</td>\n",
       "      <td>514.0</td>\n",
       "      <td>150.0</td>\n",
       "      <td>mastercard</td>\n",
       "      <td>102.0</td>\n",
       "      <td>credit</td>\n",
       "      <td>...</td>\n",
       "      <td>0.0</td>\n",
       "      <td>0.0</td>\n",
       "      <td>0.0</td>\n",
       "      <td>0.0</td>\n",
       "      <td>0.0</td>\n",
       "      <td>0.0</td>\n",
       "      <td>0.0</td>\n",
       "      <td>0.0</td>\n",
       "      <td>0.0</td>\n",
       "      <td>0.0</td>\n",
       "    </tr>\n",
       "  </tbody>\n",
       "</table>\n",
       "<p>5 rows × 393 columns</p>\n",
       "</div>"
      ],
      "text/plain": [
       "               isFraud  TransactionDT  TransactionAmt ProductCD  card1  card2  \\\n",
       "TransactionID                                                                   \n",
       "2987000              0          86400            68.5         W  13926    NaN   \n",
       "2987001              0          86401            29.0         W   2755  404.0   \n",
       "2987002              0          86469            59.0         W   4663  490.0   \n",
       "2987003              0          86499            50.0         W  18132  567.0   \n",
       "2987004              0          86506            50.0         H   4497  514.0   \n",
       "\n",
       "               card3       card4  card5   card6  ...  V330  V331  V332  V333  \\\n",
       "TransactionID                                    ...                           \n",
       "2987000        150.0    discover  142.0  credit  ...   NaN   NaN   NaN   NaN   \n",
       "2987001        150.0  mastercard  102.0  credit  ...   NaN   NaN   NaN   NaN   \n",
       "2987002        150.0        visa  166.0   debit  ...   NaN   NaN   NaN   NaN   \n",
       "2987003        150.0  mastercard  117.0   debit  ...   NaN   NaN   NaN   NaN   \n",
       "2987004        150.0  mastercard  102.0  credit  ...   0.0   0.0   0.0   0.0   \n",
       "\n",
       "              V334 V335  V336  V337  V338  V339  \n",
       "TransactionID                                    \n",
       "2987000        NaN  NaN   NaN   NaN   NaN   NaN  \n",
       "2987001        NaN  NaN   NaN   NaN   NaN   NaN  \n",
       "2987002        NaN  NaN   NaN   NaN   NaN   NaN  \n",
       "2987003        NaN  NaN   NaN   NaN   NaN   NaN  \n",
       "2987004        0.0  0.0   0.0   0.0   0.0   0.0  \n",
       "\n",
       "[5 rows x 393 columns]"
      ]
     },
     "execution_count": 5,
     "metadata": {},
     "output_type": "execute_result"
    }
   ],
   "source": [
    "# look at the first 5 rows of the df\n",
    "train_transaction.head()"
   ]
  },
  {
   "cell_type": "code",
   "execution_count": 6,
   "metadata": {},
   "outputs": [
    {
     "data": {
      "text/html": [
       "<div>\n",
       "<style scoped>\n",
       "    .dataframe tbody tr th:only-of-type {\n",
       "        vertical-align: middle;\n",
       "    }\n",
       "\n",
       "    .dataframe tbody tr th {\n",
       "        vertical-align: top;\n",
       "    }\n",
       "\n",
       "    .dataframe thead th {\n",
       "        text-align: right;\n",
       "    }\n",
       "</style>\n",
       "<table border=\"1\" class=\"dataframe\">\n",
       "  <thead>\n",
       "    <tr style=\"text-align: right;\">\n",
       "      <th></th>\n",
       "      <th>id-01</th>\n",
       "      <th>id-02</th>\n",
       "      <th>id-03</th>\n",
       "      <th>id-04</th>\n",
       "      <th>id-05</th>\n",
       "      <th>id-06</th>\n",
       "      <th>id-07</th>\n",
       "      <th>id-08</th>\n",
       "      <th>id-09</th>\n",
       "      <th>id-10</th>\n",
       "      <th>...</th>\n",
       "      <th>id-31</th>\n",
       "      <th>id-32</th>\n",
       "      <th>id-33</th>\n",
       "      <th>id-34</th>\n",
       "      <th>id-35</th>\n",
       "      <th>id-36</th>\n",
       "      <th>id-37</th>\n",
       "      <th>id-38</th>\n",
       "      <th>DeviceType</th>\n",
       "      <th>DeviceInfo</th>\n",
       "    </tr>\n",
       "    <tr>\n",
       "      <th>TransactionID</th>\n",
       "      <th></th>\n",
       "      <th></th>\n",
       "      <th></th>\n",
       "      <th></th>\n",
       "      <th></th>\n",
       "      <th></th>\n",
       "      <th></th>\n",
       "      <th></th>\n",
       "      <th></th>\n",
       "      <th></th>\n",
       "      <th></th>\n",
       "      <th></th>\n",
       "      <th></th>\n",
       "      <th></th>\n",
       "      <th></th>\n",
       "      <th></th>\n",
       "      <th></th>\n",
       "      <th></th>\n",
       "      <th></th>\n",
       "      <th></th>\n",
       "      <th></th>\n",
       "    </tr>\n",
       "  </thead>\n",
       "  <tbody>\n",
       "    <tr>\n",
       "      <th>3663586</th>\n",
       "      <td>-45.0</td>\n",
       "      <td>280290.0</td>\n",
       "      <td>NaN</td>\n",
       "      <td>NaN</td>\n",
       "      <td>0.0</td>\n",
       "      <td>0.0</td>\n",
       "      <td>NaN</td>\n",
       "      <td>NaN</td>\n",
       "      <td>NaN</td>\n",
       "      <td>NaN</td>\n",
       "      <td>...</td>\n",
       "      <td>chrome 67.0 for android</td>\n",
       "      <td>NaN</td>\n",
       "      <td>NaN</td>\n",
       "      <td>NaN</td>\n",
       "      <td>F</td>\n",
       "      <td>F</td>\n",
       "      <td>T</td>\n",
       "      <td>F</td>\n",
       "      <td>mobile</td>\n",
       "      <td>MYA-L13 Build/HUAWEIMYA-L13</td>\n",
       "    </tr>\n",
       "    <tr>\n",
       "      <th>3663588</th>\n",
       "      <td>0.0</td>\n",
       "      <td>3579.0</td>\n",
       "      <td>0.0</td>\n",
       "      <td>0.0</td>\n",
       "      <td>0.0</td>\n",
       "      <td>0.0</td>\n",
       "      <td>NaN</td>\n",
       "      <td>NaN</td>\n",
       "      <td>0.0</td>\n",
       "      <td>0.0</td>\n",
       "      <td>...</td>\n",
       "      <td>chrome 67.0 for android</td>\n",
       "      <td>24.0</td>\n",
       "      <td>1280x720</td>\n",
       "      <td>match_status:2</td>\n",
       "      <td>T</td>\n",
       "      <td>F</td>\n",
       "      <td>T</td>\n",
       "      <td>T</td>\n",
       "      <td>mobile</td>\n",
       "      <td>LGLS676 Build/MXB48T</td>\n",
       "    </tr>\n",
       "    <tr>\n",
       "      <th>3663597</th>\n",
       "      <td>-5.0</td>\n",
       "      <td>185210.0</td>\n",
       "      <td>NaN</td>\n",
       "      <td>NaN</td>\n",
       "      <td>1.0</td>\n",
       "      <td>0.0</td>\n",
       "      <td>NaN</td>\n",
       "      <td>NaN</td>\n",
       "      <td>NaN</td>\n",
       "      <td>NaN</td>\n",
       "      <td>...</td>\n",
       "      <td>ie 11.0 for tablet</td>\n",
       "      <td>NaN</td>\n",
       "      <td>NaN</td>\n",
       "      <td>NaN</td>\n",
       "      <td>F</td>\n",
       "      <td>T</td>\n",
       "      <td>T</td>\n",
       "      <td>F</td>\n",
       "      <td>desktop</td>\n",
       "      <td>Trident/7.0</td>\n",
       "    </tr>\n",
       "    <tr>\n",
       "      <th>3663601</th>\n",
       "      <td>-45.0</td>\n",
       "      <td>252944.0</td>\n",
       "      <td>0.0</td>\n",
       "      <td>0.0</td>\n",
       "      <td>0.0</td>\n",
       "      <td>0.0</td>\n",
       "      <td>NaN</td>\n",
       "      <td>NaN</td>\n",
       "      <td>0.0</td>\n",
       "      <td>0.0</td>\n",
       "      <td>...</td>\n",
       "      <td>chrome 67.0 for android</td>\n",
       "      <td>NaN</td>\n",
       "      <td>NaN</td>\n",
       "      <td>NaN</td>\n",
       "      <td>F</td>\n",
       "      <td>F</td>\n",
       "      <td>T</td>\n",
       "      <td>F</td>\n",
       "      <td>mobile</td>\n",
       "      <td>MYA-L13 Build/HUAWEIMYA-L13</td>\n",
       "    </tr>\n",
       "    <tr>\n",
       "      <th>3663602</th>\n",
       "      <td>-95.0</td>\n",
       "      <td>328680.0</td>\n",
       "      <td>NaN</td>\n",
       "      <td>NaN</td>\n",
       "      <td>7.0</td>\n",
       "      <td>-33.0</td>\n",
       "      <td>NaN</td>\n",
       "      <td>NaN</td>\n",
       "      <td>NaN</td>\n",
       "      <td>NaN</td>\n",
       "      <td>...</td>\n",
       "      <td>chrome 67.0 for android</td>\n",
       "      <td>NaN</td>\n",
       "      <td>NaN</td>\n",
       "      <td>NaN</td>\n",
       "      <td>F</td>\n",
       "      <td>F</td>\n",
       "      <td>T</td>\n",
       "      <td>F</td>\n",
       "      <td>mobile</td>\n",
       "      <td>SM-G9650 Build/R16NW</td>\n",
       "    </tr>\n",
       "  </tbody>\n",
       "</table>\n",
       "<p>5 rows × 40 columns</p>\n",
       "</div>"
      ],
      "text/plain": [
       "               id-01     id-02  id-03  id-04  id-05  id-06  id-07  id-08  \\\n",
       "TransactionID                                                              \n",
       "3663586        -45.0  280290.0    NaN    NaN    0.0    0.0    NaN    NaN   \n",
       "3663588          0.0    3579.0    0.0    0.0    0.0    0.0    NaN    NaN   \n",
       "3663597         -5.0  185210.0    NaN    NaN    1.0    0.0    NaN    NaN   \n",
       "3663601        -45.0  252944.0    0.0    0.0    0.0    0.0    NaN    NaN   \n",
       "3663602        -95.0  328680.0    NaN    NaN    7.0  -33.0    NaN    NaN   \n",
       "\n",
       "               id-09  id-10  ...                    id-31 id-32     id-33  \\\n",
       "TransactionID                ...                                            \n",
       "3663586          NaN    NaN  ...  chrome 67.0 for android   NaN       NaN   \n",
       "3663588          0.0    0.0  ...  chrome 67.0 for android  24.0  1280x720   \n",
       "3663597          NaN    NaN  ...       ie 11.0 for tablet   NaN       NaN   \n",
       "3663601          0.0    0.0  ...  chrome 67.0 for android   NaN       NaN   \n",
       "3663602          NaN    NaN  ...  chrome 67.0 for android   NaN       NaN   \n",
       "\n",
       "                        id-34 id-35 id-36  id-37  id-38  DeviceType  \\\n",
       "TransactionID                                                         \n",
       "3663586                   NaN     F     F      T      F      mobile   \n",
       "3663588        match_status:2     T     F      T      T      mobile   \n",
       "3663597                   NaN     F     T      T      F     desktop   \n",
       "3663601                   NaN     F     F      T      F      mobile   \n",
       "3663602                   NaN     F     F      T      F      mobile   \n",
       "\n",
       "                                DeviceInfo  \n",
       "TransactionID                               \n",
       "3663586        MYA-L13 Build/HUAWEIMYA-L13  \n",
       "3663588               LGLS676 Build/MXB48T  \n",
       "3663597                        Trident/7.0  \n",
       "3663601        MYA-L13 Build/HUAWEIMYA-L13  \n",
       "3663602               SM-G9650 Build/R16NW  \n",
       "\n",
       "[5 rows x 40 columns]"
      ]
     },
     "execution_count": 6,
     "metadata": {},
     "output_type": "execute_result"
    }
   ],
   "source": [
    "train_identity.head()"
   ]
  },
  {
   "cell_type": "markdown",
   "metadata": {
    "execution": {
     "iopub.execute_input": "2022-05-22T05:58:43.042932Z",
     "iopub.status.busy": "2022-05-22T05:58:43.042624Z",
     "iopub.status.idle": "2022-05-22T05:58:43.05083Z",
     "shell.execute_reply": "2022-05-22T05:58:43.049873Z",
     "shell.execute_reply.started": "2022-05-22T05:58:43.042901Z"
    }
   },
   "source": [
    "**Merge dataframes**\n",
    "\n",
    "* We merge the original (left) dataframe with another (right)\n",
    "* `left`: use the keys from left frame, similar to a SQL left outer join; preserve key order\n",
    "* `left_index` and `right_index`: use the index from the left and right dataframes as the join keys"
   ]
  },
  {
   "cell_type": "code",
   "execution_count": 7,
   "metadata": {},
   "outputs": [
    {
     "name": "stdout",
     "output_type": "stream",
     "text": [
      "CPU times: user 740 ms, sys: 992 ms, total: 1.73 s\n",
      "Wall time: 1.73 s\n"
     ]
    }
   ],
   "source": [
    "%%time\n",
    "\n",
    "# CPU\n",
    "train_data = train_transaction.merge(train_identity, how=\"left\", left_index=True, right_index=True)"
   ]
  },
  {
   "cell_type": "code",
   "execution_count": 8,
   "metadata": {},
   "outputs": [
    {
     "name": "stdout",
     "output_type": "stream",
     "text": [
      "CPU times: user 68 ms, sys: 84 ms, total: 152 ms\n",
      "Wall time: 152 ms\n"
     ]
    }
   ],
   "source": [
    "%%time\n",
    "\n",
    "# GPU\n",
    "train_data_gpu = train_transaction_gpu.merge(train_identity_gpu, how=\"left\", left_index=True, right_index=True)"
   ]
  },
  {
   "cell_type": "code",
   "execution_count": 9,
   "metadata": {},
   "outputs": [
    {
     "name": "stdout",
     "output_type": "stream",
     "text": [
      "<class 'pandas.core.frame.DataFrame'>\n",
      "Int64Index: 590540 entries, 2987000 to 3577539\n",
      "Columns: 433 entries, isFraud to DeviceInfo\n",
      "dtypes: float64(399), int64(3), object(31)\n",
      "memory usage: 1.9+ GB\n"
     ]
    }
   ],
   "source": [
    "# CPU\n",
    "train_data.info()"
   ]
  },
  {
   "cell_type": "code",
   "execution_count": 10,
   "metadata": {},
   "outputs": [
    {
     "name": "stdout",
     "output_type": "stream",
     "text": [
      "<class 'cudf.core.dataframe.DataFrame'>\n",
      "Int64Index: 590540 entries, 3007864 to 3575459\n",
      "Columns: 433 entries, isFraud to DeviceInfo\n",
      "dtypes: float64(399), int64(3), object(31)\n",
      "memory usage: 1.9+ GB\n"
     ]
    }
   ],
   "source": [
    "# GPU\n",
    "train_data_gpu.info()"
   ]
  },
  {
   "cell_type": "code",
   "execution_count": 11,
   "metadata": {},
   "outputs": [
    {
     "data": {
      "text/plain": [
       "TransactionID\n",
       "2987000    0\n",
       "2987001    0\n",
       "2987002    0\n",
       "2987003    0\n",
       "2987004    0\n",
       "Name: isFraud, dtype: int64"
      ]
     },
     "execution_count": 11,
     "metadata": {},
     "output_type": "execute_result"
    }
   ],
   "source": [
    "# CPU\n",
    "# datetime of transaction probably doesn't matter\n",
    "train_data.drop([\"TransactionDT\"], axis=1, inplace=True) # remove column from df\n",
    "\n",
    "# label\n",
    "y = train_data[\"isFraud\"].astype(\"int\") # convert to int dtype\n",
    "y.head()"
   ]
  },
  {
   "cell_type": "code",
   "execution_count": 12,
   "metadata": {},
   "outputs": [
    {
     "data": {
      "text/plain": [
       "TransactionID\n",
       "3007864    0\n",
       "3007865    0\n",
       "3007866    0\n",
       "3007867    0\n",
       "3007868    0\n",
       "Name: isFraud, dtype: int64"
      ]
     },
     "execution_count": 12,
     "metadata": {},
     "output_type": "execute_result"
    }
   ],
   "source": [
    "# GPU\n",
    "train_data_gpu.drop([\"TransactionDT\"], axis=1, inplace=True) # remove column from df\n",
    "\n",
    "# label\n",
    "y_gpu = train_data_gpu[\"isFraud\"].astype(\"int\") # convert to int dtype\n",
    "y_gpu.head()"
   ]
  },
  {
   "cell_type": "code",
   "execution_count": 13,
   "metadata": {},
   "outputs": [
    {
     "name": "stderr",
     "output_type": "stream",
     "text": [
      "100%|█████████████████████████████████████████████████████████████████████████████████████████████████████████████████████████████████████████████████████████████████████████████████████████████████████████████████████████████████████████████████████████████████████████████████████████████████████████████████████████████████████████████████████████████████████████████████████████████████████████████████████████████████████████████████████████████| 431/431 [06:09<00:00,  1.17it/s]\n"
     ]
    }
   ],
   "source": [
    "# CPU\n",
    "# features (data)\n",
    "x = train_data.drop(\"isFraud\", axis=1) # remove label from feature set\n",
    "# xgboost can handle missing data as a seperate case\n",
    "# you can also fill in missing values\n",
    "#x = x.fillna(-999.0) #  large negative number simulates null/missing values\n",
    "\n",
    "# counters\n",
    "converted_to_float = 0\n",
    "converted_to_categorical = 0\n",
    "dropped = 0\n",
    "\n",
    "for col in tqdm(x.columns): # displays progress bar\n",
    "    try:\n",
    "        x[col] = x[col].astype(\"float\") # convert column to float dtype\n",
    "        converted_to_float += 1\n",
    "    except:\n",
    "        #try:\n",
    "        le = LabelEncoder()\n",
    "        x_col = x[col].str.lower() # change string to lowercase\n",
    "        new_col = le.fit_transform(x_col) # transform non-numerical values (0 to n)\n",
    "        x[col] = new_col.astype(\"float\")\n",
    "        converted_to_categorical += 1\n",
    "        #except:\n",
    "        #    x.drop([col], axis=1, inplace=True)\n",
    "        #    dropped += 1"
   ]
  },
  {
   "cell_type": "code",
   "execution_count": 18,
   "metadata": {},
   "outputs": [
    {
     "name": "stderr",
     "output_type": "stream",
     "text": [
      "100%|████████████████████████████████████████████████████████████████████████████████████████████████████████████████████████████████████████████████████████████████████████████████████████████████████████████████████████████████████████████████████████████████████████████████████████████████████████████████████████████████████████████████████████████████████████████████████████████████████████████████████████████████████████████████████████████| 431/431 [00:00<00:00, 996.36it/s]\n"
     ]
    }
   ],
   "source": [
    "# GPU\n",
    "# features (data)\n",
    "x_gpu = train_data_gpu.drop(\"isFraud\", axis=1) # remove label from feature set\n",
    "\n",
    "# counters\n",
    "converted_to_float = 0\n",
    "converted_to_categorical = 0\n",
    "dropped = 0\n",
    "\n",
    "for col in tqdm(x_gpu.columns): # displays progress bar\n",
    "    try:\n",
    "        x_gpu[col] = x_gpu[col].astype(\"float\") # convert column to float dtype\n",
    "        converted_to_float += 1\n",
    "    except:\n",
    "        #try:\n",
    "        le_gpu = gpu_LabelEncoder() # GPU version\n",
    "        x_col_gpu = x_gpu[col].str.lower() # change string to lowercase\n",
    "        new_col_gpu = le_gpu.fit_transform(x_col_gpu) # transform non-numerical values (0 to n)\n",
    "        x_gpu[col] = new_col_gpu.astype(\"float\")\n",
    "        converted_to_categorical += 1\n",
    "        #except:\n",
    "        #    x_gpu.drop([col], axis=1, inplace=True)\n",
    "        #    dropped += 1"
   ]
  },
  {
   "cell_type": "code",
   "execution_count": 14,
   "metadata": {},
   "outputs": [
    {
     "data": {
      "text/html": [
       "<div>\n",
       "<style scoped>\n",
       "    .dataframe tbody tr th:only-of-type {\n",
       "        vertical-align: middle;\n",
       "    }\n",
       "\n",
       "    .dataframe tbody tr th {\n",
       "        vertical-align: top;\n",
       "    }\n",
       "\n",
       "    .dataframe thead th {\n",
       "        text-align: right;\n",
       "    }\n",
       "</style>\n",
       "<table border=\"1\" class=\"dataframe\">\n",
       "  <thead>\n",
       "    <tr style=\"text-align: right;\">\n",
       "      <th></th>\n",
       "      <th>TransactionAmt</th>\n",
       "      <th>ProductCD</th>\n",
       "      <th>card1</th>\n",
       "      <th>card2</th>\n",
       "      <th>card3</th>\n",
       "      <th>card4</th>\n",
       "      <th>card5</th>\n",
       "      <th>card6</th>\n",
       "      <th>addr1</th>\n",
       "      <th>addr2</th>\n",
       "      <th>...</th>\n",
       "      <th>id-31</th>\n",
       "      <th>id-32</th>\n",
       "      <th>id-33</th>\n",
       "      <th>id-34</th>\n",
       "      <th>id-35</th>\n",
       "      <th>id-36</th>\n",
       "      <th>id-37</th>\n",
       "      <th>id-38</th>\n",
       "      <th>DeviceType</th>\n",
       "      <th>DeviceInfo</th>\n",
       "    </tr>\n",
       "    <tr>\n",
       "      <th>TransactionID</th>\n",
       "      <th></th>\n",
       "      <th></th>\n",
       "      <th></th>\n",
       "      <th></th>\n",
       "      <th></th>\n",
       "      <th></th>\n",
       "      <th></th>\n",
       "      <th></th>\n",
       "      <th></th>\n",
       "      <th></th>\n",
       "      <th></th>\n",
       "      <th></th>\n",
       "      <th></th>\n",
       "      <th></th>\n",
       "      <th></th>\n",
       "      <th></th>\n",
       "      <th></th>\n",
       "      <th></th>\n",
       "      <th></th>\n",
       "      <th></th>\n",
       "      <th></th>\n",
       "    </tr>\n",
       "  </thead>\n",
       "  <tbody>\n",
       "    <tr>\n",
       "      <th>2987000</th>\n",
       "      <td>68.5</td>\n",
       "      <td>4.0</td>\n",
       "      <td>13926.0</td>\n",
       "      <td>NaN</td>\n",
       "      <td>150.0</td>\n",
       "      <td>1.0</td>\n",
       "      <td>142.0</td>\n",
       "      <td>1.0</td>\n",
       "      <td>315.0</td>\n",
       "      <td>87.0</td>\n",
       "      <td>...</td>\n",
       "      <td>NaN</td>\n",
       "      <td>NaN</td>\n",
       "      <td>NaN</td>\n",
       "      <td>NaN</td>\n",
       "      <td>NaN</td>\n",
       "      <td>NaN</td>\n",
       "      <td>NaN</td>\n",
       "      <td>NaN</td>\n",
       "      <td>NaN</td>\n",
       "      <td>NaN</td>\n",
       "    </tr>\n",
       "    <tr>\n",
       "      <th>2987001</th>\n",
       "      <td>29.0</td>\n",
       "      <td>4.0</td>\n",
       "      <td>2755.0</td>\n",
       "      <td>404.0</td>\n",
       "      <td>150.0</td>\n",
       "      <td>2.0</td>\n",
       "      <td>102.0</td>\n",
       "      <td>1.0</td>\n",
       "      <td>325.0</td>\n",
       "      <td>87.0</td>\n",
       "      <td>...</td>\n",
       "      <td>NaN</td>\n",
       "      <td>NaN</td>\n",
       "      <td>NaN</td>\n",
       "      <td>NaN</td>\n",
       "      <td>NaN</td>\n",
       "      <td>NaN</td>\n",
       "      <td>NaN</td>\n",
       "      <td>NaN</td>\n",
       "      <td>NaN</td>\n",
       "      <td>NaN</td>\n",
       "    </tr>\n",
       "    <tr>\n",
       "      <th>2987002</th>\n",
       "      <td>59.0</td>\n",
       "      <td>4.0</td>\n",
       "      <td>4663.0</td>\n",
       "      <td>490.0</td>\n",
       "      <td>150.0</td>\n",
       "      <td>3.0</td>\n",
       "      <td>166.0</td>\n",
       "      <td>2.0</td>\n",
       "      <td>330.0</td>\n",
       "      <td>87.0</td>\n",
       "      <td>...</td>\n",
       "      <td>NaN</td>\n",
       "      <td>NaN</td>\n",
       "      <td>NaN</td>\n",
       "      <td>NaN</td>\n",
       "      <td>NaN</td>\n",
       "      <td>NaN</td>\n",
       "      <td>NaN</td>\n",
       "      <td>NaN</td>\n",
       "      <td>NaN</td>\n",
       "      <td>NaN</td>\n",
       "    </tr>\n",
       "    <tr>\n",
       "      <th>2987003</th>\n",
       "      <td>50.0</td>\n",
       "      <td>4.0</td>\n",
       "      <td>18132.0</td>\n",
       "      <td>567.0</td>\n",
       "      <td>150.0</td>\n",
       "      <td>2.0</td>\n",
       "      <td>117.0</td>\n",
       "      <td>2.0</td>\n",
       "      <td>476.0</td>\n",
       "      <td>87.0</td>\n",
       "      <td>...</td>\n",
       "      <td>NaN</td>\n",
       "      <td>NaN</td>\n",
       "      <td>NaN</td>\n",
       "      <td>NaN</td>\n",
       "      <td>NaN</td>\n",
       "      <td>NaN</td>\n",
       "      <td>NaN</td>\n",
       "      <td>NaN</td>\n",
       "      <td>NaN</td>\n",
       "      <td>NaN</td>\n",
       "    </tr>\n",
       "    <tr>\n",
       "      <th>2987004</th>\n",
       "      <td>50.0</td>\n",
       "      <td>1.0</td>\n",
       "      <td>4497.0</td>\n",
       "      <td>514.0</td>\n",
       "      <td>150.0</td>\n",
       "      <td>2.0</td>\n",
       "      <td>102.0</td>\n",
       "      <td>1.0</td>\n",
       "      <td>420.0</td>\n",
       "      <td>87.0</td>\n",
       "      <td>...</td>\n",
       "      <td>NaN</td>\n",
       "      <td>NaN</td>\n",
       "      <td>NaN</td>\n",
       "      <td>NaN</td>\n",
       "      <td>NaN</td>\n",
       "      <td>NaN</td>\n",
       "      <td>NaN</td>\n",
       "      <td>NaN</td>\n",
       "      <td>NaN</td>\n",
       "      <td>NaN</td>\n",
       "    </tr>\n",
       "  </tbody>\n",
       "</table>\n",
       "<p>5 rows × 431 columns</p>\n",
       "</div>"
      ],
      "text/plain": [
       "               TransactionAmt  ProductCD    card1  card2  card3  card4  card5  \\\n",
       "TransactionID                                                                   \n",
       "2987000                  68.5        4.0  13926.0    NaN  150.0    1.0  142.0   \n",
       "2987001                  29.0        4.0   2755.0  404.0  150.0    2.0  102.0   \n",
       "2987002                  59.0        4.0   4663.0  490.0  150.0    3.0  166.0   \n",
       "2987003                  50.0        4.0  18132.0  567.0  150.0    2.0  117.0   \n",
       "2987004                  50.0        1.0   4497.0  514.0  150.0    2.0  102.0   \n",
       "\n",
       "               card6  addr1  addr2  ...  id-31  id-32  id-33  id-34  id-35  \\\n",
       "TransactionID                       ...                                      \n",
       "2987000          1.0  315.0   87.0  ...    NaN    NaN    NaN    NaN    NaN   \n",
       "2987001          1.0  325.0   87.0  ...    NaN    NaN    NaN    NaN    NaN   \n",
       "2987002          2.0  330.0   87.0  ...    NaN    NaN    NaN    NaN    NaN   \n",
       "2987003          2.0  476.0   87.0  ...    NaN    NaN    NaN    NaN    NaN   \n",
       "2987004          1.0  420.0   87.0  ...    NaN    NaN    NaN    NaN    NaN   \n",
       "\n",
       "               id-36  id-37  id-38  DeviceType  DeviceInfo  \n",
       "TransactionID                                               \n",
       "2987000          NaN    NaN    NaN         NaN         NaN  \n",
       "2987001          NaN    NaN    NaN         NaN         NaN  \n",
       "2987002          NaN    NaN    NaN         NaN         NaN  \n",
       "2987003          NaN    NaN    NaN         NaN         NaN  \n",
       "2987004          NaN    NaN    NaN         NaN         NaN  \n",
       "\n",
       "[5 rows x 431 columns]"
      ]
     },
     "execution_count": 14,
     "metadata": {},
     "output_type": "execute_result"
    }
   ],
   "source": [
    "x.head()"
   ]
  },
  {
   "cell_type": "code",
   "execution_count": 15,
   "metadata": {},
   "outputs": [
    {
     "name": "stdout",
     "output_type": "stream",
     "text": [
      "converted_to_float: 417\n",
      "converted_to_categorical: 14\n",
      "cols dropped: 0\n"
     ]
    }
   ],
   "source": [
    "print(\"converted_to_float:\", converted_to_float)\n",
    "print(\"converted_to_categorical:\", converted_to_categorical)\n",
    "print(\"cols dropped:\", dropped)"
   ]
  },
  {
   "cell_type": "markdown",
   "metadata": {},
   "source": [
    "# 2. Train Model"
   ]
  },
  {
   "cell_type": "code",
   "execution_count": 20,
   "metadata": {},
   "outputs": [
    {
     "name": "stdout",
     "output_type": "stream",
     "text": [
      "CPU times: user 2.72 s, sys: 1.87 s, total: 4.59 s\n",
      "Wall time: 4.58 s\n"
     ]
    }
   ],
   "source": [
    "%%time\n",
    "\n",
    "# CPU\n",
    "# Make train test split\n",
    "X_train, X_valid, y_train, y_valid = train_test_split(x, y, test_size=0.1, stratify=y)"
   ]
  },
  {
   "cell_type": "code",
   "execution_count": 21,
   "metadata": {},
   "outputs": [
    {
     "name": "stdout",
     "output_type": "stream",
     "text": [
      "CPU times: user 608 ms, sys: 568 ms, total: 1.18 s\n",
      "Wall time: 1.81 s\n"
     ]
    }
   ],
   "source": [
    "%%time\n",
    "\n",
    "# GPU\n",
    "# Make train test split\n",
    "X_train_gpu, X_valid_gpu, y_train_gpu, y_valid_gpu = gpu_train_test_split(x_gpu, y_gpu, test_size=0.1, stratify=y_gpu)"
   ]
  },
  {
   "cell_type": "code",
   "execution_count": 22,
   "metadata": {
    "tags": []
   },
   "outputs": [
    {
     "name": "stdout",
     "output_type": "stream",
     "text": [
      "              total        used        free      shared  buff/cache   available\n",
      "Mem:          125Gi        66Gi       6.0Gi       9.6Gi        53Gi        48Gi\n",
      "Swap:            0B          0B          0B\n"
     ]
    }
   ],
   "source": [
    "del x, train_data, train_transaction, train_identity, x_gpu, train_data_gpu, train_transaction_gpu, train_identity_gpu\n",
    "!free -h\n",
    "# !nvidia-smi"
   ]
  },
  {
   "cell_type": "code",
   "execution_count": 23,
   "metadata": {
    "tags": []
   },
   "outputs": [
    {
     "name": "stdout",
     "output_type": "stream",
     "text": [
      "CPU\n",
      "Train: (531486, 431) (531486,)\n",
      " Test: (59054, 431) (59054,)\n",
      "**********\n",
      "GPU\n",
      "Train: (531486, 431) (531486,)\n",
      " Test: (59054, 431) (59054,)\n"
     ]
    }
   ],
   "source": [
    "print(\"CPU\")\n",
    "print(\"Train:\", X_train.shape, y_train.shape)\n",
    "print(\" Test:\", X_valid.shape, y_valid.shape)\n",
    "print(\"*\"*10)\n",
    "\n",
    "print(\"GPU\")\n",
    "print(\"Train:\", X_train_gpu.shape, y_train_gpu.shape)\n",
    "print(\" Test:\", X_valid_gpu.shape, y_valid_gpu.shape)"
   ]
  },
  {
   "cell_type": "code",
   "execution_count": 24,
   "metadata": {
    "tags": []
   },
   "outputs": [
    {
     "name": "stdout",
     "output_type": "stream",
     "text": [
      "0.036 : 1 ratio of positive:negative\n"
     ]
    }
   ],
   "source": [
    "# get ratio of positive cases (1) to negative cases (0)\n",
    "ratio_of_positive = y_train.sum()/(len(y_train)-y_train.sum())\n",
    "print(round(ratio_of_positive,3), \": 1 ratio of positive:negative\")"
   ]
  },
  {
   "cell_type": "markdown",
   "metadata": {},
   "source": [
    "Construct the XGBoost Classifier. You can also try out [additional arguments](https://xgboost.readthedocs.io/en/latest/parameter.html) to perform parameter tuning."
   ]
  },
  {
   "cell_type": "code",
   "execution_count": 25,
   "metadata": {
    "tags": []
   },
   "outputs": [],
   "source": [
    "# CPU\n",
    "model = xgb.XGBClassifier(\n",
    "    n_estimators=100,\n",
    "    max_depth=10,\n",
    "    learning_rate=0.1,\n",
    "    tree_method=\"hist\",\n",
    "    # scale up the weight of positive samples\n",
    "    scale_pos_weight=1/ratio_of_positive,\n",
    "    use_label_encoder=False\n",
    ")"
   ]
  },
  {
   "cell_type": "code",
   "execution_count": 26,
   "metadata": {
    "tags": []
   },
   "outputs": [],
   "source": [
    "# GPU\n",
    "model_gpu = xgb.XGBClassifier(\n",
    "    n_estimators=100,\n",
    "    max_depth=10,\n",
    "    learning_rate=0.1,\n",
    "    tree_method=\"gpu_hist\",\n",
    "    # scale up the weight of positive samples\n",
    "    scale_pos_weight=1/ratio_of_positive,\n",
    "    use_label_encoder=False\n",
    ")"
   ]
  },
  {
   "cell_type": "code",
   "execution_count": 27,
   "metadata": {
    "tags": []
   },
   "outputs": [
    {
     "name": "stdout",
     "output_type": "stream",
     "text": [
      "Training takes: 62 seconds\n"
     ]
    }
   ],
   "source": [
    "# CPU\n",
    "train_start_time = time.time()\n",
    "\n",
    "model.fit(X_train, y_train,\n",
    "          eval_set=[(X_train, y_train), (X_valid, y_valid)],\n",
    "          verbose=False)\n",
    "\n",
    "train_end_time = time.time()\n",
    "\n",
    "results = model.evals_result()\n",
    "\n",
    "print(\"Training takes:\", int(train_end_time-train_start_time), \"seconds\")"
   ]
  },
  {
   "cell_type": "code",
   "execution_count": 30,
   "metadata": {
    "tags": []
   },
   "outputs": [
    {
     "name": "stdout",
     "output_type": "stream",
     "text": [
      "Training takes: 9 seconds\n"
     ]
    }
   ],
   "source": [
    "# GPU\n",
    "train_start_time = time.time()\n",
    "\n",
    "model_gpu.fit(X_train_gpu, y_train_gpu,\n",
    "          eval_set=[(X_train_gpu, y_train_gpu), (X_valid_gpu, y_valid_gpu)],\n",
    "          verbose=False)\n",
    "\n",
    "train_end_time = time.time()\n",
    "\n",
    "results_gpu = model_gpu.evals_result()\n",
    "\n",
    "print(\"Training takes:\", int(train_end_time-train_start_time), \"seconds\")"
   ]
  },
  {
   "cell_type": "markdown",
   "metadata": {},
   "source": [
    "# 3. Evaluation"
   ]
  },
  {
   "cell_type": "code",
   "execution_count": 28,
   "metadata": {
    "tags": []
   },
   "outputs": [
    {
     "name": "stdout",
     "output_type": "stream",
     "text": [
      "CPU times: user 2.15 s, sys: 28 ms, total: 2.18 s\n",
      "Wall time: 108 ms\n"
     ]
    }
   ],
   "source": [
    "%%time\n",
    "\n",
    "# CPU\n",
    "preds = model.predict(X_valid)"
   ]
  },
  {
   "cell_type": "code",
   "execution_count": 31,
   "metadata": {
    "tags": []
   },
   "outputs": [
    {
     "name": "stdout",
     "output_type": "stream",
     "text": [
      "CPU times: user 480 ms, sys: 12 ms, total: 492 ms\n",
      "Wall time: 489 ms\n"
     ]
    }
   ],
   "source": [
    "%%time\n",
    "\n",
    "# GPU\n",
    "preds_gpu = model_gpu.predict(X_valid_gpu)"
   ]
  },
  {
   "cell_type": "markdown",
   "metadata": {},
   "source": [
    "# 4. Visualization"
   ]
  },
  {
   "cell_type": "code",
   "execution_count": 32,
   "metadata": {
    "tags": []
   },
   "outputs": [
    {
     "data": {
      "image/png": "[encoded data removed]",
      "text/plain": [
       "<Figure size 432x288 with 1 Axes>"
      ]
     },
     "metadata": {
      "image/png": {
       "height": 248,
       "width": 372
      },
      "needs_background": "light"
     },
     "output_type": "display_data"
    }
   ],
   "source": [
    "# CPU\n",
    "# plot learning curves\n",
    "plt.plot(results['validation_0']['logloss'], label='train')\n",
    "plt.plot(results['validation_1']['logloss'], label='test')\n",
    "# show the legend\n",
    "plt.legend()\n",
    "# show the plot\n",
    "plt.show()"
   ]
  },
  {
   "cell_type": "code",
   "execution_count": 33,
   "metadata": {
    "tags": []
   },
   "outputs": [
    {
     "data": {
      "image/png": "[encoded data removed]",
      "text/plain": [
       "<Figure size 432x288 with 1 Axes>"
      ]
     },
     "metadata": {
      "image/png": {
       "height": 248,
       "width": 372
      },
      "needs_background": "light"
     },
     "output_type": "display_data"
    }
   ],
   "source": [
    "# GPU\n",
    "# plot learning curves\n",
    "plt.plot(results_gpu['validation_0']['logloss'], label='train')\n",
    "plt.plot(results_gpu['validation_1']['logloss'], label='test')\n",
    "# show the legend\n",
    "plt.legend()\n",
    "# show the plot\n",
    "plt.show()"
   ]
  },
  {
   "cell_type": "code",
   "execution_count": 35,
   "metadata": {
    "tags": []
   },
   "outputs": [
    {
     "data": {
      "image/png": "[encoded data removed]",
      "text/plain": [
       "<Figure size 432x288 with 1 Axes>"
      ]
     },
     "metadata": {
      "image/png": {
       "height": 277,
       "width": 460
      },
      "needs_background": "light"
     },
     "output_type": "display_data"
    }
   ],
   "source": [
    "# CPU\n",
    "# plot feature importance\n",
    "\n",
    "plot_importance(model, max_num_features=10)\n",
    "plt.show()"
   ]
  },
  {
   "cell_type": "code",
   "execution_count": 36,
   "metadata": {
    "tags": []
   },
   "outputs": [
    {
     "data": {
      "image/png": "[encoded data removed]",
      "text/plain": [
       "<Figure size 432x288 with 1 Axes>"
      ]
     },
     "metadata": {
      "image/png": {
       "height": 277,
       "width": 452
      },
      "needs_background": "light"
     },
     "output_type": "display_data"
    }
   ],
   "source": [
    "# GPU\n",
    "# plot feature importance\n",
    "\n",
    "plot_importance(model_gpu, max_num_features=10)\n",
    "plt.show()"
   ]
  }
 ],
 "metadata": {
  "kernelspec": {
   "display_name": "Python 3 (ipykernel)",
   "language": "python",
   "name": "python3"
  },
  "language_info": {
   "codemirror_mode": {
    "name": "ipython",
    "version": 3
   },
   "file_extension": ".py",
   "mimetype": "text/x-python",
   "name": "python",
   "nbconvert_exporter": "python",
   "pygments_lexer": "ipython3",
   "version": "3.8.13"
  }
 },
 "nbformat": 4,
 "nbformat_minor": 4
}
